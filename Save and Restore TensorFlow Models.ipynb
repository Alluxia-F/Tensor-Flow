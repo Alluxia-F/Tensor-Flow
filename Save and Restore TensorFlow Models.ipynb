{
 "cells": [
  {
   "cell_type": "code",
   "execution_count": 1,
   "metadata": {
    "collapsed": true
   },
   "outputs": [],
   "source": [
    "import tensorflow as tf"
   ]
  },
  {
   "cell_type": "code",
   "execution_count": 2,
   "metadata": {
    "collapsed": true
   },
   "outputs": [],
   "source": [
    "save_file='./model.ckpt'"
   ]
  },
  {
   "cell_type": "code",
   "execution_count": 3,
   "metadata": {
    "collapsed": false
   },
   "outputs": [],
   "source": [
    "# Two tensor variables:weights and bias\n",
    "weights=tf.Variable(tf.truncated_normal([2,3]))\n",
    "bias=tf.Variable(tf.truncated_normal([3]))"
   ]
  },
  {
   "cell_type": "code",
   "execution_count": 4,
   "metadata": {
    "collapsed": true
   },
   "outputs": [],
   "source": [
    "# Class used to save or restor Tensor Variables\n",
    "saver=tf.train.Saver()"
   ]
  },
  {
   "cell_type": "code",
   "execution_count": 5,
   "metadata": {
    "collapsed": false
   },
   "outputs": [
    {
     "name": "stdout",
     "output_type": "stream",
     "text": [
      "Weights:\n",
      "[[-0.56376541  1.77240705  1.48376095]\n",
      " [ 0.42539659 -0.76024014 -0.63782871]]\n",
      "Bias:\n",
      "[ 0.94403434 -0.76168764  0.73779231]\n"
     ]
    }
   ],
   "source": [
    "with tf.Session() as sess:\n",
    "    sess.run(tf.global_variables_initializer())\n",
    "    print('Weights:')\n",
    "    print(sess.run(weights))\n",
    "    print('Bias:')\n",
    "    print(sess.run(bias))\n",
    "    # Save the model\n",
    "    saver.save(sess,save_file)"
   ]
  },
  {
   "cell_type": "code",
   "execution_count": 6,
   "metadata": {
    "collapsed": false
   },
   "outputs": [],
   "source": [
    "# Remove the previous weights and bias\n",
    "tf.reset_default_graph()"
   ]
  },
  {
   "cell_type": "code",
   "execution_count": 7,
   "metadata": {
    "collapsed": false
   },
   "outputs": [
    {
     "name": "stdout",
     "output_type": "stream",
     "text": [
      "INFO:tensorflow:Restoring parameters from ./model.ckpt\n",
      "Weights:\n",
      "[[-0.56376541  1.77240705  1.48376095]\n",
      " [ 0.42539659 -0.76024014 -0.63782871]]\n",
      "Bias:\n",
      "[ 0.94403434 -0.76168764  0.73779231]\n"
     ]
    }
   ],
   "source": [
    "# Create 2 variables:weights,biases\n",
    "weights=tf.Variable(tf.truncated_normal([2,3]))\n",
    "bias=tf.Variable(tf.truncated_normal([3]))\n",
    "\n",
    "saver=tf.train.Saver()\n",
    "\n",
    "with tf.Session() as sess:\n",
    "    saver.restore(sess,save_file)\n",
    "    \n",
    "    # Show the values of weights and biases\n",
    "    print('Weights:')\n",
    "    print(sess.run(weights))\n",
    "    print('Bias:')\n",
    "    print(sess.run(bias))\n"
   ]
  },
  {
   "cell_type": "code",
   "execution_count": 8,
   "metadata": {
    "collapsed": true
   },
   "outputs": [],
   "source": [
    "# Let's see how to train a model and save its weights\n",
    "# Remove previous Tensors and operations\n",
    "\n",
    "tf.reset_default_graph()\n",
    "from tensorflow.examples.tutorials.mnist import input_data\n",
    "import numpy as np\n"
   ]
  },
  {
   "cell_type": "code",
   "execution_count": 9,
   "metadata": {
    "collapsed": false
   },
   "outputs": [
    {
     "name": "stdout",
     "output_type": "stream",
     "text": [
      "Extracting ./train-images-idx3-ubyte.gz\n",
      "Extracting ./train-labels-idx1-ubyte.gz\n",
      "Extracting ./t10k-images-idx3-ubyte.gz\n",
      "Extracting ./t10k-labels-idx1-ubyte.gz\n"
     ]
    }
   ],
   "source": [
    "learning_rate=0.001\n",
    "n_input=784\n",
    "n_classes=10\n",
    "mnist=input_data.read_data_sets('.',one_hot=True)"
   ]
  },
  {
   "cell_type": "code",
   "execution_count": 10,
   "metadata": {
    "collapsed": false
   },
   "outputs": [],
   "source": [
    "# Features and labels\n",
    "features=tf.placeholder(tf.float32,[None,n_input])\n",
    "labels=tf.placeholder(tf.float32,[None,n_classes])\n",
    "\n",
    "# Weights & bias\n",
    "\n",
    "weights=tf.Variable(tf.random_normal([n_input,n_classes]))\n",
    "bias=tf.Variable(tf.random_normal([n_classes]))\n",
    "\n",
    "# logits -xW+b\n",
    "logits=tf.add(tf.matmul(features,weights),bias)\n",
    "\n",
    "# Define loss and optimizer\n",
    "\n",
    "cost=tf.reduce_mean(tf.nn.softmax_cross_entropy_with_logits(logits=logits,labels=labels))\n",
    "optimizer=tf.train.GradientDescentOptimizer(learning_rate=learning_rate).minimize(cost)\n",
    "\n",
    "# Calculate accuracy\n",
    "correct_prediction=tf.equal(tf.argmax(logits,1),tf.argmax(labels,1))\n",
    "accuracy=tf.reduce_mean(tf.cast(correct_prediction,tf.float32))\n",
    "\n",
    "\n"
   ]
  },
  {
   "cell_type": "code",
   "execution_count": 11,
   "metadata": {
    "collapsed": false
   },
   "outputs": [
    {
     "name": "stdout",
     "output_type": "stream",
     "text": [
      "Trained Model Saved\n"
     ]
    }
   ],
   "source": [
    "# Train the model\n",
    "import math\n",
    "save_file='./train_model.ckpt'\n",
    "batch_size=128\n",
    "n_epochs=100\n",
    "\n",
    "saver=tf.train.Saver()\n",
    "\n",
    "# Launch the graph\n",
    "\n",
    "with tf.Session() as sess:\n",
    "    sess.run(tf.global_variables_initializer())\n",
    "    \n",
    "    for epoch in range(n_epochs):\n",
    "        total_batch=math.ceil(mnist.train.num_examples/batch_size)\n",
    "        for epoch in range(total_batch):\n",
    "            batch_features,batch_labels=mnist.train.next_batch(batch_size)\n",
    "            sess.run(optimizer,feed_dict={features:batch_features,labels:batch_labels})\n",
    "        # Print status for every 10 epochs\n",
    "        if epoch % 10==0:\n",
    "            valid_accuracy=sess.run(accuracy,feed_dict={features:mnist.validation.images,labels:mnist.validation.labels})\n",
    "            print('Epoch {:<3} - Validation Accuracy :{} '.format(epoch,valid_accuracy))\n",
    "    # Save the model\n",
    "    saver.save(sess,save_file)\n",
    "    print('Trained Model Saved')"
   ]
  },
  {
   "cell_type": "code",
   "execution_count": 12,
   "metadata": {
    "collapsed": false
   },
   "outputs": [
    {
     "name": "stdout",
     "output_type": "stream",
     "text": [
      "INFO:tensorflow:Restoring parameters from ./train_model.ckpt\n",
      "Test Accuracy:0.7275000214576721\n"
     ]
    }
   ],
   "source": [
    "# Load a trained model\n",
    "\n",
    "saver=tf.train.Saver()\n",
    "\n",
    "# Launch the graph\n",
    "with tf.Session() as sess:\n",
    "    saver.restore(sess,save_file)\n",
    "    test_accuracy=sess.run(accuracy,feed_dict={features:mnist.test.images,labels:mnist.test.labels})\n",
    "    \n",
    "print('Test Accuracy:{}'.format(test_accuracy))\n"
   ]
  },
  {
   "cell_type": "code",
   "execution_count": null,
   "metadata": {
    "collapsed": true
   },
   "outputs": [],
   "source": []
  }
 ],
 "metadata": {
  "kernelspec": {
   "display_name": "Python 3",
   "language": "python",
   "name": "python3"
  },
  "language_info": {
   "codemirror_mode": {
    "name": "ipython",
    "version": 3
   },
   "file_extension": ".py",
   "mimetype": "text/x-python",
   "name": "python",
   "nbconvert_exporter": "python",
   "pygments_lexer": "ipython3",
   "version": "3.5.3"
  }
 },
 "nbformat": 4,
 "nbformat_minor": 1
}
