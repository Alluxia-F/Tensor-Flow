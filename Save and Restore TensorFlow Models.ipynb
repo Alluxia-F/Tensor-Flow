{
 "cells": [
  {
   "cell_type": "code",
   "execution_count": 20,
   "metadata": {
    "collapsed": true
   },
   "outputs": [],
   "source": [
    "import tensorflow as tf"
   ]
  },
  {
   "cell_type": "code",
   "execution_count": 21,
   "metadata": {
    "collapsed": true
   },
   "outputs": [],
   "source": [
    "save_file='./model.ckpt'"
   ]
  },
  {
   "cell_type": "code",
   "execution_count": 22,
   "metadata": {
    "collapsed": false
   },
   "outputs": [],
   "source": [
    "# Two tensor variables:weights and bias\n",
    "weights=tf.Variable(tf.truncated_normal([2,3]))\n",
    "bias=tf.Variable(tf.truncated_normal([3]))"
   ]
  },
  {
   "cell_type": "code",
   "execution_count": 23,
   "metadata": {
    "collapsed": true
   },
   "outputs": [],
   "source": [
    "# Class used to save or restor Tensor Variables\n",
    "saver=tf.train.Saver()"
   ]
  },
  {
   "cell_type": "code",
   "execution_count": 24,
   "metadata": {
    "collapsed": false
   },
   "outputs": [
    {
     "name": "stdout",
     "output_type": "stream",
     "text": [
      "Weights:\n",
      "[[ 0.50853342 -0.11600203  1.20777977]\n",
      " [-0.41503608  1.854895    0.74402231]]\n",
      "Bias:\n",
      "[ 0.94111675  0.78776634 -0.48341829]\n"
     ]
    }
   ],
   "source": [
    "with tf.Session() as sess:\n",
    "    sess.run(tf.global_variables_initializer())\n",
    "    print('Weights:')\n",
    "    print(sess.run(weights))\n",
    "    print('Bias:')\n",
    "    print(sess.run(bias))\n",
    "    # Save the model\n",
    "    saver.save(sess,save_file)"
   ]
  },
  {
   "cell_type": "code",
   "execution_count": 25,
   "metadata": {
    "collapsed": false
   },
   "outputs": [],
   "source": [
    "# Remove the previous weights and bias\n",
    "tf.reset_default_graph()"
   ]
  },
  {
   "cell_type": "code",
   "execution_count": 26,
   "metadata": {
    "collapsed": false
   },
   "outputs": [
    {
     "name": "stdout",
     "output_type": "stream",
     "text": [
      "INFO:tensorflow:Restoring parameters from ./model.ckpt\n",
      "Weights:\n",
      "[[-0.72124934 -1.4228735  -0.31917921]\n",
      " [ 0.30324054  0.36297545  0.93018091]]\n",
      "Bias:\n",
      "[-0.75918359 -0.32567054 -1.9453876 ]\n"
     ]
    }
   ],
   "source": [
    "# Create 2 variables:weights,biases\n",
    "weights=tf.Variable(tf.truncated_normal([2,3]))\n",
    "bias=tf.Variable(tf.truncated_normal([3]))\n",
    "\n",
    "saver=tf.train.Saver()\n",
    "\n",
    "with tf.Session() as sess:\n",
    "    saver.restore(sess,save_file)\n",
    "    \n",
    "    # Show the values of weights and biases\n",
    "    print('Weights:')\n",
    "    print(sess.run(weights))\n",
    "    print('Bias:')\n",
    "    print(sess.run(bias))\n"
   ]
  },
  {
   "cell_type": "code",
   "execution_count": 27,
   "metadata": {
    "collapsed": true
   },
   "outputs": [],
   "source": [
    "# Let's see how to train a model and save its weights\n",
    "# Remove previous Tensors and operations\n",
    "\n",
    "tf.reset_default_graph()\n",
    "from tensorflow.examples.tutorials.mnist import input_data\n",
    "import numpy as np\n"
   ]
  },
  {
   "cell_type": "code",
   "execution_count": 28,
   "metadata": {
    "collapsed": false
   },
   "outputs": [
    {
     "name": "stdout",
     "output_type": "stream",
     "text": [
      "Successfully downloaded train-images-idx3-ubyte.gz 9912422 bytes.\n",
      "Extracting ./train-images-idx3-ubyte.gz\n",
      "Successfully downloaded train-labels-idx1-ubyte.gz 28881 bytes.\n",
      "Extracting ./train-labels-idx1-ubyte.gz\n",
      "Successfully downloaded t10k-images-idx3-ubyte.gz 1648877 bytes.\n",
      "Extracting ./t10k-images-idx3-ubyte.gz\n",
      "Successfully downloaded t10k-labels-idx1-ubyte.gz 4542 bytes.\n",
      "Extracting ./t10k-labels-idx1-ubyte.gz\n"
     ]
    }
   ],
   "source": [
    "learning_rate=0.001\n",
    "n_input=784\n",
    "n_classes=10\n",
    "mnist=input_data.read_data_sets('.',one_hot=True)"
   ]
  },
  {
   "cell_type": "code",
   "execution_count": 29,
   "metadata": {
    "collapsed": false
   },
   "outputs": [],
   "source": [
    "# Features and labels\n",
    "features=tf.placeholder(tf.float32,[None,n_input])\n",
    "labels=tf.placeholder(tf.float32,[None,n_classes])\n",
    "\n",
    "# Weights & bias\n",
    "\n",
    "weights=tf.Variable(tf.random_normal([n_input,n_classes]))\n",
    "bias=tf.Variable(tf.random_normal([n_classes]))\n",
    "\n",
    "# logits -xW+b\n",
    "logits=tf.add(tf.matmul(features,weights),bias)\n",
    "\n",
    "# Define loss and optimizer\n",
    "\n",
    "cost=tf.reduce_mean(tf.nn.softmax_cross_entropy_with_logits(logits=logits,labels=labels))\n",
    "optimizer=tf.train.GradientDescentOptimizer(learning_rate=learning_rate).minimize(cost)\n",
    "\n",
    "# Calculate accuracy\n",
    "correct_prediction=tf.equal(tf.argmax(logits,1),tf.argmax(labels,1))\n",
    "accuracy=tf.reduce_mean(tf.cast(correct_prediction,tf.float32))\n",
    "\n",
    "\n"
   ]
  },
  {
   "cell_type": "code",
   "execution_count": 30,
   "metadata": {
    "collapsed": false
   },
   "outputs": [
    {
     "name": "stdout",
     "output_type": "stream",
     "text": [
      "Epoch 0   - Validation Accuracy :0.10080000013113022 \n",
      "Epoch 10  - Validation Accuracy :0.23399999737739563 \n",
      "Epoch 20  - Validation Accuracy :0.3619999885559082 \n",
      "Epoch 30  - Validation Accuracy :0.4602000117301941 \n",
      "Epoch 40  - Validation Accuracy :0.5307999849319458 \n",
      "Epoch 50  - Validation Accuracy :0.5878000259399414 \n",
      "Epoch 60  - Validation Accuracy :0.6251999735832214 \n",
      "Epoch 70  - Validation Accuracy :0.6538000106811523 \n",
      "Epoch 80  - Validation Accuracy :0.6769999861717224 \n",
      "Epoch 90  - Validation Accuracy :0.6976000070571899 \n",
      "Trained Model Saved\n"
     ]
    }
   ],
   "source": [
    "# Train the model\n",
    "import math\n",
    "save_file='./train_model.ckpt'\n",
    "batch_size=128\n",
    "n_epochs=100\n",
    "\n",
    "saver=tf.train.Saver()\n",
    "\n",
    "# Launch the graph\n",
    "\n",
    "with tf.Session() as sess:\n",
    "    sess.run(tf.global_variables_initializer())\n",
    "    \n",
    "    for epoch in range(n_epochs):\n",
    "        total_batch=math.ceil(mnist.train.num_examples/batch_size)\n",
    "        for i in range(total_batch):\n",
    "            batch_features,batch_labels=mnist.train.next_batch(batch_size)\n",
    "            sess.run(optimizer,feed_dict={features:batch_features,labels:batch_labels})\n",
    "        # Print status for every 10 epochs\n",
    "        if epoch % 10==0:\n",
    "            valid_accuracy=sess.run(accuracy,feed_dict={features:mnist.validation.images,labels:mnist.validation.labels})\n",
    "            print('Epoch {:<3} - Validation Accuracy :{} '.format(epoch,valid_accuracy))\n",
    "    # Save the model\n",
    "    saver.save(sess,save_file)\n",
    "    print('Trained Model Saved')"
   ]
  },
  {
   "cell_type": "code",
   "execution_count": 31,
   "metadata": {
    "collapsed": false
   },
   "outputs": [
    {
     "name": "stdout",
     "output_type": "stream",
     "text": [
      "INFO:tensorflow:Restoring parameters from ./train_model.ckpt\n",
      "Test Accuracy:0.7117999792098999\n"
     ]
    }
   ],
   "source": [
    "# Load a trained model\n",
    "\n",
    "saver=tf.train.Saver()\n",
    "\n",
    "# Launch the graph\n",
    "with tf.Session() as sess:\n",
    "    saver.restore(sess,save_file)\n",
    "    test_accuracy=sess.run(accuracy,feed_dict={features:mnist.test.images,labels:mnist.test.labels})\n",
    "    \n",
    "print('Test Accuracy:{}'.format(test_accuracy))\n"
   ]
  },
  {
   "cell_type": "code",
   "execution_count": null,
   "metadata": {
    "collapsed": true
   },
   "outputs": [],
   "source": []
  }
 ],
 "metadata": {
  "kernelspec": {
   "display_name": "Python 3",
   "language": "python",
   "name": "python3"
  },
  "language_info": {
   "codemirror_mode": {
    "name": "ipython",
    "version": 3
   },
   "file_extension": ".py",
   "mimetype": "text/x-python",
   "name": "python",
   "nbconvert_exporter": "python",
   "pygments_lexer": "ipython3",
   "version": "3.5.3"
  }
 },
 "nbformat": 4,
 "nbformat_minor": 1
}
