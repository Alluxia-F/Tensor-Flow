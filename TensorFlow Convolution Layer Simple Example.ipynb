{
 "cells": [
  {
   "cell_type": "code",
   "execution_count": 198,
   "metadata": {
    "collapsed": true
   },
   "outputs": [],
   "source": [
    "import tensorflow as tf\n",
    "import numpy as np"
   ]
  },
  {
   "cell_type": "code",
   "execution_count": 199,
   "metadata": {
    "collapsed": true
   },
   "outputs": [],
   "source": [
    "# 'tf.nn.con2d' requires the input be 4D(batch_size,height,width,depth)\n",
    "\n",
    "x=np.array([[0,1,0.5,10],[2,2.5,1,-8],[4,0,5,6],[15,1,2,3]],dtype=np.float32)"
   ]
  },
  {
   "cell_type": "code",
   "execution_count": 200,
   "metadata": {
    "collapsed": false
   },
   "outputs": [
    {
     "data": {
      "text/plain": [
       "array([[  0. ,   1. ,   0.5,  10. ],\n",
       "       [  2. ,   2.5,   1. ,  -8. ],\n",
       "       [  4. ,   0. ,   5. ,   6. ],\n",
       "       [ 15. ,   1. ,   2. ,   3. ]], dtype=float32)"
      ]
     },
     "execution_count": 200,
     "metadata": {},
     "output_type": "execute_result"
    }
   ],
   "source": [
    "x"
   ]
  },
  {
   "cell_type": "code",
   "execution_count": 201,
   "metadata": {
    "collapsed": false
   },
   "outputs": [],
   "source": [
    "x=x.reshape((1,4,4,1))"
   ]
  },
  {
   "cell_type": "code",
   "execution_count": 202,
   "metadata": {
    "collapsed": false
   },
   "outputs": [
    {
     "data": {
      "text/plain": [
       "array([[[[  0. ],\n",
       "         [  1. ],\n",
       "         [  0.5],\n",
       "         [ 10. ]],\n",
       "\n",
       "        [[  2. ],\n",
       "         [  2.5],\n",
       "         [  1. ],\n",
       "         [ -8. ]],\n",
       "\n",
       "        [[  4. ],\n",
       "         [  0. ],\n",
       "         [  5. ],\n",
       "         [  6. ]],\n",
       "\n",
       "        [[ 15. ],\n",
       "         [  1. ],\n",
       "         [  2. ],\n",
       "         [  3. ]]]], dtype=float32)"
      ]
     },
     "execution_count": 202,
     "metadata": {},
     "output_type": "execute_result"
    }
   ],
   "source": [
    "x"
   ]
  },
  {
   "cell_type": "code",
   "execution_count": 203,
   "metadata": {
    "collapsed": false
   },
   "outputs": [
    {
     "data": {
      "text/plain": [
       "<tf.Tensor 'Const_22:0' shape=(1, 4, 4, 1) dtype=float32>"
      ]
     },
     "execution_count": 203,
     "metadata": {},
     "output_type": "execute_result"
    }
   ],
   "source": [
    "X=tf.constant(x)\n",
    "X"
   ]
  },
  {
   "cell_type": "code",
   "execution_count": 204,
   "metadata": {
    "collapsed": false
   },
   "outputs": [],
   "source": [
    "def conv2d(inputs):\n",
    "    # The shape of the filter weight is(filter_height,filter_width,input_depth,output_depth)\n",
    "    # The shape of the filter bias is output_depth\n",
    "    # The output shape is (1,2,2,4)\n",
    "    F_w=tf.Variable(tf.random_normal([2,2,1,3]))\n",
    "    F_b=tf.Variable(tf.random_normal([3]))\n",
    "    \n",
    "    # Stride for each dimension: batch_size,filter_height,filter_width,depth\n",
    "    strides = [1, 2, 2, 1]\n",
    "    \n",
    "    padding='SAME'\n",
    "    \n",
    "    return tf.nn.conv2d(inputs,F_w,strides,padding)+F_b\n",
    "\n",
    "    "
   ]
  },
  {
   "cell_type": "code",
   "execution_count": 205,
   "metadata": {
    "collapsed": false
   },
   "outputs": [
    {
     "name": "stdout",
     "output_type": "stream",
     "text": [
      "[[[[  3.6057539    4.0754838    9.4108572 ]\n",
      "   [-14.4010601   -2.85576963   6.02873802]]\n",
      "\n",
      "  [[ -5.58408213   8.70306396  25.53438377]\n",
      "   [ -9.86263466   7.20039797  15.48938274]]]]\n"
     ]
    }
   ],
   "source": [
    "out=conv2d(X)\n",
    "with tf.Session() as sess:\n",
    "    sess.run(tf.global_variables_initializer())\n",
    "    print(sess.run(out))"
   ]
  },
  {
   "cell_type": "markdown",
   "metadata": {},
   "source": [
    "SAME Padding, the output height and width are computed as:\n",
    "\n",
    "out_height = ceil(float(in_height) / float(strides[1]))\n",
    "\n",
    "out_width = ceil(float(in_width) / float(strides[2]))\n",
    "\n",
    "VALID Padding, the output height and width are computed as:\n",
    "\n",
    "out_height = ceil(float(in_height - filter_height + 1) / float(strides[1]))\n",
    "\n",
    "out_width = ceil(float(in_width - filter_width + 1) / float(strides[2]))"
   ]
  },
  {
   "cell_type": "code",
   "execution_count": null,
   "metadata": {
    "collapsed": true
   },
   "outputs": [],
   "source": []
  }
 ],
 "metadata": {
  "kernelspec": {
   "display_name": "Python 3",
   "language": "python",
   "name": "python3"
  },
  "language_info": {
   "codemirror_mode": {
    "name": "ipython",
    "version": 3
   },
   "file_extension": ".py",
   "mimetype": "text/x-python",
   "name": "python",
   "nbconvert_exporter": "python",
   "pygments_lexer": "ipython3",
   "version": "3.5.3"
  }
 },
 "nbformat": 4,
 "nbformat_minor": 1
}
