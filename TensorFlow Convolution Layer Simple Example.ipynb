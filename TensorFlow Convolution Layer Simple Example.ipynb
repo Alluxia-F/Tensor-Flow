{
 "cells": [
  {
   "cell_type": "code",
   "execution_count": 182,
   "metadata": {
    "collapsed": true
   },
   "outputs": [],
   "source": [
    "import tensorflow as tf\n",
    "import numpy as np"
   ]
  },
  {
   "cell_type": "code",
   "execution_count": 183,
   "metadata": {
    "collapsed": true
   },
   "outputs": [],
   "source": [
    "# 'tf.nn.con2d' requires the input be 4D(batch_size,height,width,depth)\n",
    "\n",
    "x=np.array([[0,1,0.5,10],[2,2.5,1,-8],[4,0,5,6],[15,1,2,3]],dtype=np.float32)"
   ]
  },
  {
   "cell_type": "code",
   "execution_count": 184,
   "metadata": {
    "collapsed": false
   },
   "outputs": [
    {
     "data": {
      "text/plain": [
       "array([[  0. ,   1. ,   0.5,  10. ],\n",
       "       [  2. ,   2.5,   1. ,  -8. ],\n",
       "       [  4. ,   0. ,   5. ,   6. ],\n",
       "       [ 15. ,   1. ,   2. ,   3. ]], dtype=float32)"
      ]
     },
     "execution_count": 184,
     "metadata": {},
     "output_type": "execute_result"
    }
   ],
   "source": [
    "x"
   ]
  },
  {
   "cell_type": "code",
   "execution_count": 185,
   "metadata": {
    "collapsed": false
   },
   "outputs": [],
   "source": [
    "x=x.reshape((1,4,4,1))"
   ]
  },
  {
   "cell_type": "code",
   "execution_count": 186,
   "metadata": {
    "collapsed": false
   },
   "outputs": [
    {
     "data": {
      "text/plain": [
       "array([[[[  0. ],\n",
       "         [  1. ],\n",
       "         [  0.5],\n",
       "         [ 10. ]],\n",
       "\n",
       "        [[  2. ],\n",
       "         [  2.5],\n",
       "         [  1. ],\n",
       "         [ -8. ]],\n",
       "\n",
       "        [[  4. ],\n",
       "         [  0. ],\n",
       "         [  5. ],\n",
       "         [  6. ]],\n",
       "\n",
       "        [[ 15. ],\n",
       "         [  1. ],\n",
       "         [  2. ],\n",
       "         [  3. ]]]], dtype=float32)"
      ]
     },
     "execution_count": 186,
     "metadata": {},
     "output_type": "execute_result"
    }
   ],
   "source": [
    "x"
   ]
  },
  {
   "cell_type": "code",
   "execution_count": 187,
   "metadata": {
    "collapsed": false
   },
   "outputs": [
    {
     "data": {
      "text/plain": [
       "<tf.Tensor 'Const_20:0' shape=(1, 4, 4, 1) dtype=float32>"
      ]
     },
     "execution_count": 187,
     "metadata": {},
     "output_type": "execute_result"
    }
   ],
   "source": [
    "X=tf.constant(x)\n",
    "X"
   ]
  },
  {
   "cell_type": "code",
   "execution_count": 188,
   "metadata": {
    "collapsed": false
   },
   "outputs": [],
   "source": [
    "def conv2d(inputs):\n",
    "    # The shape of the filter weight is(height,width,input_depth,output_depth)\n",
    "    # The shape of the filter bias is output_depth\n",
    "    # The output shape is (1,2,2,4)\n",
    "    F_w=tf.Variable(tf.random_normal([4,4,1,3]))\n",
    "    F_b=tf.Variable(tf.random_normal([3]))\n",
    "    \n",
    "    # Stride for each dimension: batch_size,height,width,depth\n",
    "    strides = [1, 2, 2, 1]\n",
    "    \n",
    "    padding='SAME'\n",
    "    \n",
    "    return tf.nn.conv2d(inputs,F_w,strides,padding)+F_b\n",
    "\n",
    "    "
   ]
  },
  {
   "cell_type": "code",
   "execution_count": 189,
   "metadata": {
    "collapsed": false
   },
   "outputs": [
    {
     "name": "stdout",
     "output_type": "stream",
     "text": [
      "[[[[ -5.10253048  -5.32559681  -2.20730758]\n",
      "   [-18.18896866 -14.09578037  -3.03163052]]\n",
      "\n",
      "  [[-20.20850945  -9.47641754 -11.95817375]\n",
      "   [ -5.09834099   7.13857174  -5.99718904]]]]\n"
     ]
    }
   ],
   "source": [
    "out=conv2d(X)\n",
    "with tf.Session() as sess:\n",
    "    sess.run(tf.global_variables_initializer())\n",
    "    print(sess.run(out))"
   ]
  },
  {
   "cell_type": "code",
   "execution_count": null,
   "metadata": {
    "collapsed": true
   },
   "outputs": [],
   "source": []
  }
 ],
 "metadata": {
  "kernelspec": {
   "display_name": "Python 3",
   "language": "python",
   "name": "python3"
  },
  "language_info": {
   "codemirror_mode": {
    "name": "ipython",
    "version": 3
   },
   "file_extension": ".py",
   "mimetype": "text/x-python",
   "name": "python",
   "nbconvert_exporter": "python",
   "pygments_lexer": "ipython3",
   "version": "3.5.3"
  }
 },
 "nbformat": 4,
 "nbformat_minor": 1
}
