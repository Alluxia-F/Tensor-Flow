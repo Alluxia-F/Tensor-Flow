{
 "cells": [
  {
   "cell_type": "code",
   "execution_count": 1,
   "metadata": {
    "collapsed": true
   },
   "outputs": [],
   "source": [
    "import tensorflow as tf"
   ]
  },
  {
   "cell_type": "code",
   "execution_count": 8,
   "metadata": {},
   "outputs": [
    {
     "name": "stdout",
     "output_type": "stream",
     "text": [
      "0.356675\n"
     ]
    }
   ],
   "source": [
    "softmax_data=[0.7,0.2,0.1]\n",
    "one_hot_data=[1.0,0.0,0.0]\n",
    "\n",
    "softmax=tf.placeholder(tf.float32)\n",
    "one_hot=tf.placeholder(tf.float32)\n",
    "\n",
    "cross_entropy=-tf.reduce_sum(tf.multiply(one_hot,tf.log(softmax)))\n",
    "\n",
    "with tf.Session() as sess:\n",
    "    cross_entropy=sess.run(cross_entropy,feed_dict={one_hot:one_hot_data,softmax:softmax_data})\n",
    "    print(cross_entropy)"
   ]
  },
  {
   "cell_type": "code",
   "execution_count": null,
   "metadata": {
    "collapsed": true
   },
   "outputs": [],
   "source": []
  }
 ],
 "metadata": {
  "kernelspec": {
   "display_name": "Python 3",
   "language": "python",
   "name": "python3"
  },
  "language_info": {
   "codemirror_mode": {
    "name": "ipython",
    "version": 3
   },
   "file_extension": ".py",
   "mimetype": "text/x-python",
   "name": "python",
   "nbconvert_exporter": "python",
   "pygments_lexer": "ipython3",
   "version": "3.5.3"
  }
 },
 "nbformat": 4,
 "nbformat_minor": 2
}
