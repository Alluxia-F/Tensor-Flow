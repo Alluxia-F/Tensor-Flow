{
 "cells": [
  {
   "cell_type": "markdown",
   "metadata": {},
   "source": [
    "import tensorflow as tf"
   ]
  },
  {
   "cell_type": "code",
   "execution_count": 20,
   "metadata": {},
   "outputs": [
    {
     "name": "stdout",
     "output_type": "stream",
     "text": [
      "7\n"
     ]
    }
   ],
   "source": [
    "x=tf.add(5,2)\n",
    "\n",
    "with tf.Session() as sess:\n",
    "    output=sess.run(x)\n",
    "    print(output)"
   ]
  },
  {
   "cell_type": "code",
   "execution_count": 21,
   "metadata": {},
   "outputs": [
    {
     "name": "stdout",
     "output_type": "stream",
     "text": [
      "6\n"
     ]
    }
   ],
   "source": [
    "y=tf.subtract(10,4)\n",
    "\n",
    "with tf.Session() as sess:\n",
    "    y=sess.run(y)\n",
    "    print(y)"
   ]
  },
  {
   "cell_type": "code",
   "execution_count": 22,
   "metadata": {},
   "outputs": [
    {
     "name": "stdout",
     "output_type": "stream",
     "text": [
      "10\n"
     ]
    }
   ],
   "source": [
    "z=tf.multiply(2,5)\n",
    "\n",
    "with tf.Session() as sess:\n",
    "    z=sess.run(z)\n",
    "    print(z)\n"
   ]
  },
  {
   "cell_type": "code",
   "execution_count": 23,
   "metadata": {},
   "outputs": [
    {
     "name": "stdout",
     "output_type": "stream",
     "text": [
      "1\n"
     ]
    }
   ],
   "source": [
    "a=tf.subtract(tf.cast(tf.constant(2.0),tf.int32),tf.constant(1))\n",
    "\n",
    "with tf.Session() as sess:\n",
    "    a=sess.run(a)\n",
    "    print(a)"
   ]
  },
  {
   "cell_type": "code",
   "execution_count": 34,
   "metadata": {},
   "outputs": [
    {
     "name": "stdout",
     "output_type": "stream",
     "text": [
      "4.0\n"
     ]
    }
   ],
   "source": [
    "x=tf.constant(10.0)\n",
    "y=tf.constant(2.0)\n",
    "z=tf.subtract(tf.divide(x,y),tf.cast(tf.constant(1),tf.float32))\n",
    "\n",
    "with tf.Session() as sess:\n",
    "    z=sess.run(z)\n",
    "    print(z)"
   ]
  },
  {
   "cell_type": "markdown",
   "metadata": {
    "collapsed": true
   },
   "source": [
    "Summary:\n",
    "    1. Ran operations in tf.Session\n",
    "    2. Created a constant tensor with tf.constant()\n",
    "    3. Used tf.placeholder() and feed_dict to get input.\n",
    "    4. Applied the tf.add(),tf.subtract(),tf.multiply(), and tf,div() functions using numeric data\n",
    "    5. Learned about casting between types with tf.cast()"
   ]
  }
 ],
 "metadata": {
  "kernelspec": {
   "display_name": "Python 3",
   "language": "python",
   "name": "python3"
  },
  "language_info": {
   "codemirror_mode": {
    "name": "ipython",
    "version": 3
   },
   "file_extension": ".py",
   "mimetype": "text/x-python",
   "name": "python",
   "nbconvert_exporter": "python",
   "pygments_lexer": "ipython3",
   "version": "3.5.3"
  }
 },
 "nbformat": 4,
 "nbformat_minor": 2
}
