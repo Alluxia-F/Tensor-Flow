{
 "cells": [
  {
   "cell_type": "markdown",
   "metadata": {},
   "source": [
    "##### Set the values to 'strides' and 'ksize' such that the output shape after pooling is (1,2,2,1)\n"
   ]
  },
  {
   "cell_type": "code",
   "execution_count": 25,
   "metadata": {
    "collapsed": true
   },
   "outputs": [],
   "source": [
    "import tensorflow as tf\n",
    "import numpy as np"
   ]
  },
  {
   "cell_type": "code",
   "execution_count": 26,
   "metadata": {
    "collapsed": true
   },
   "outputs": [],
   "source": [
    "x=np.array([[0,1,0.5,10],[2,2.5,1,-8],[4,0,5,6],[15,1,2,3]],dtype=np.float32)"
   ]
  },
  {
   "cell_type": "code",
   "execution_count": 27,
   "metadata": {
    "collapsed": false
   },
   "outputs": [
    {
     "data": {
      "text/plain": [
       "array([[  0. ,   1. ,   0.5,  10. ],\n",
       "       [  2. ,   2.5,   1. ,  -8. ],\n",
       "       [  4. ,   0. ,   5. ,   6. ],\n",
       "       [ 15. ,   1. ,   2. ,   3. ]], dtype=float32)"
      ]
     },
     "execution_count": 27,
     "metadata": {},
     "output_type": "execute_result"
    }
   ],
   "source": [
    "x"
   ]
  },
  {
   "cell_type": "code",
   "execution_count": 28,
   "metadata": {
    "collapsed": false
   },
   "outputs": [],
   "source": [
    "x=x.reshape((1,4,4,1))"
   ]
  },
  {
   "cell_type": "code",
   "execution_count": 29,
   "metadata": {
    "collapsed": false
   },
   "outputs": [
    {
     "data": {
      "text/plain": [
       "array([[[[  0. ],\n",
       "         [  1. ],\n",
       "         [  0.5],\n",
       "         [ 10. ]],\n",
       "\n",
       "        [[  2. ],\n",
       "         [  2.5],\n",
       "         [  1. ],\n",
       "         [ -8. ]],\n",
       "\n",
       "        [[  4. ],\n",
       "         [  0. ],\n",
       "         [  5. ],\n",
       "         [  6. ]],\n",
       "\n",
       "        [[ 15. ],\n",
       "         [  1. ],\n",
       "         [  2. ],\n",
       "         [  3. ]]]], dtype=float32)"
      ]
     },
     "execution_count": 29,
     "metadata": {},
     "output_type": "execute_result"
    }
   ],
   "source": [
    "x"
   ]
  },
  {
   "cell_type": "code",
   "execution_count": 30,
   "metadata": {
    "collapsed": true
   },
   "outputs": [],
   "source": [
    "X=tf.constant(x)"
   ]
  },
  {
   "cell_type": "code",
   "execution_count": 31,
   "metadata": {
    "collapsed": false
   },
   "outputs": [],
   "source": [
    "def maxpool(inputs):\n",
    "    # Set the filter size for each dimension: batch_size,filter_height,filter_width,output_depth\n",
    "    ksize=[1,2,2,1]\n",
    "    # Set the stride for each dimension: 1,filter_height,filter_width,1\n",
    "    strides=[1,2,2,1]\n",
    "    padding='VALID'\n",
    "    \n",
    "    return tf.nn.max_pool(inputs,ksize,strides,padding)\n",
    "\n",
    "out=maxpool(X)\n",
    "    "
   ]
  },
  {
   "cell_type": "code",
   "execution_count": 32,
   "metadata": {
    "collapsed": false
   },
   "outputs": [
    {
     "name": "stdout",
     "output_type": "stream",
     "text": [
      "[[[[  2.5]\n",
      "   [ 10. ]]\n",
      "\n",
      "  [[ 15. ]\n",
      "   [  6. ]]]]\n"
     ]
    }
   ],
   "source": [
    "with tf.Session() as sess:\n",
    "    print(sess.run(out))\n",
    "    "
   ]
  },
  {
   "cell_type": "code",
   "execution_count": null,
   "metadata": {
    "collapsed": true
   },
   "outputs": [],
   "source": []
  }
 ],
 "metadata": {
  "kernelspec": {
   "display_name": "Python 3",
   "language": "python",
   "name": "python3"
  },
  "language_info": {
   "codemirror_mode": {
    "name": "ipython",
    "version": 3
   },
   "file_extension": ".py",
   "mimetype": "text/x-python",
   "name": "python",
   "nbconvert_exporter": "python",
   "pygments_lexer": "ipython3",
   "version": "3.5.3"
  }
 },
 "nbformat": 4,
 "nbformat_minor": 1
}
