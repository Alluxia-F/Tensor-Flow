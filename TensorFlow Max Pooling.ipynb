{
 "cells": [
  {
   "cell_type": "code",
   "execution_count": 2,
   "metadata": {
    "collapsed": true
   },
   "outputs": [],
   "source": [
    "import tensorflow as tf"
   ]
  },
  {
   "cell_type": "code",
   "execution_count": 3,
   "metadata": {
    "collapsed": true
   },
   "outputs": [],
   "source": [
    "# Output depth\n",
    "k_output=64"
   ]
  },
  {
   "cell_type": "code",
   "execution_count": 4,
   "metadata": {
    "collapsed": true
   },
   "outputs": [],
   "source": [
    "# Image Properties\n",
    "image_width=10\n",
    "image_height=10\n",
    "color_channels=3"
   ]
  },
  {
   "cell_type": "code",
   "execution_count": 5,
   "metadata": {
    "collapsed": true
   },
   "outputs": [],
   "source": [
    "# Convolution filter\n",
    "filter_size_width=5\n",
    "filter_size_height=5"
   ]
  },
  {
   "cell_type": "code",
   "execution_count": 6,
   "metadata": {
    "collapsed": true
   },
   "outputs": [],
   "source": [
    "# Input /Image\n",
    "inputs=tf.placeholder(tf.float32,shape=[None,image_height,image_width,color_channels])"
   ]
  },
  {
   "cell_type": "code",
   "execution_count": 7,
   "metadata": {
    "collapsed": true
   },
   "outputs": [],
   "source": [
    "# weights and bias\n",
    "\n",
    "weight=tf.Variable(tf.truncated_normal([filter_size_height,filter_size_width,color_channels,k_output]))\n",
    "bias=tf.Variable(tf.zeros(k_output))"
   ]
  },
  {
   "cell_type": "code",
   "execution_count": 8,
   "metadata": {
    "collapsed": true
   },
   "outputs": [],
   "source": [
    "# Apply Convolution\n",
    "conv_layer=tf.nn.conv2d(inputs,weight,strides=[1,2,2,1],padding='SAME')\n",
    "\n",
    "# Add bias\n",
    "conv_layer=tf.nn.bias_add(conv_layer,bias)\n",
    "\n",
    "# Apply Activation function\n",
    "conv_layer=tf.nn.relu(conv_layer)\n"
   ]
  },
  {
   "cell_type": "markdown",
   "metadata": {},
   "source": [
    "We are generally always going to set the stride for batch and input_channels(i.e. the first and fourth element in the strides array) to be 1."
   ]
  },
  {
   "cell_type": "code",
   "execution_count": 9,
   "metadata": {
    "collapsed": false
   },
   "outputs": [],
   "source": [
    "# Apply Max Pooling\n",
    "\n",
    "conv_layer=tf.nn.max_pool(conv_layer,ksize=[1,2,2,1],strides=[1,2,2,1],padding='SAME')"
   ]
  },
  {
   "cell_type": "markdown",
   "metadata": {},
   "source": [
    "Pooling is used to decrease the size of the output and prevent overfitting.Reducing overfitting is a consequence of the reducing the output size, which in turn, reduces the number of parameters in future layers."
   ]
  }
 ],
 "metadata": {
  "kernelspec": {
   "display_name": "Python 3",
   "language": "python",
   "name": "python3"
  },
  "language_info": {
   "codemirror_mode": {
    "name": "ipython",
    "version": 3
   },
   "file_extension": ".py",
   "mimetype": "text/x-python",
   "name": "python",
   "nbconvert_exporter": "python",
   "pygments_lexer": "ipython3",
   "version": "3.5.3"
  }
 },
 "nbformat": 4,
 "nbformat_minor": 1
}
